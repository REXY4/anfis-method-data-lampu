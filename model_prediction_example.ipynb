{
 "cells": [
  {
   "cell_type": "code",
   "execution_count": null,
   "id": "ffa9a32b",
   "metadata": {},
   "outputs": [
    {
     "name": "stdout",
     "output_type": "stream",
     "text": [
      "Data training (scaled features):\n",
      " [[-0.95877    -0.57735027 -0.95877   ]\n",
      " [ 1.12228116  1.73205081  1.12228116]\n",
      " [ 1.59794999  1.73205081  1.59794999]\n",
      " [-0.36418395 -0.57735027 -0.36418395]\n",
      " [ 0.2898607  -0.57735027  0.2898607 ]\n",
      " [-0.36418395 -0.57735027 -0.36418395]]\n",
      "Label training: [0 1 1 0 1 0]\n",
      "Prediksi test: [0 1]\n",
      "Label asli test: [0 1]\n",
      "Akurasi: 1.0\n",
      "Model dan scaler sudah disimpan.\n"
     ]
    },
    {
     "ename": "",
     "evalue": "",
     "output_type": "error",
     "traceback": [
      "\u001b[1;31mThe Kernel crashed while executing code in the current cell or a previous cell. \n",
      "\u001b[1;31mPlease review the code in the cell(s) to identify a possible cause of the failure. \n",
      "\u001b[1;31mClick <a href='https://aka.ms/vscodeJupyterKernelCrash'>here</a> for more info. \n",
      "\u001b[1;31mView Jupyter <a href='command:jupyter.viewOutput'>log</a> for further details."
     ]
    }
   ],
   "source": [
    "import numpy as np\n",
    "from sklearn.linear_model import LogisticRegression\n",
    "from sklearn.model_selection import train_test_split\n",
    "from sklearn.metrics import accuracy_score\n",
    "from sklearn.preprocessing import StandardScaler\n",
    "import  joblib\n",
    "\n",
    "# Data nilai siswa\n",
    "nilai_siswa = np.array([55, 43, 98, 76, 65, 77, 65, 90])\n",
    "\n",
    "# Buat label: 1 jika lulus (nilai >= 70), 0 jika tidak\n",
    "y = (nilai_siswa >= 70).astype(int)\n",
    "\n",
    "# Feature engineering sederhana:\n",
    "# 1. Fitur asli (nilai_siswa)\n",
    "# 2. Fitur biner apakah nilai >= 85 (nilai A)\n",
    "is_A = (nilai_siswa >= 85).astype(int)\n",
    "\n",
    "# 3. Deviasi nilai terhadap rata-rata\n",
    "mean_nilai = nilai_siswa.mean()\n",
    "deviation = nilai_siswa - mean_nilai\n",
    "\n",
    "# Gabungkan fitur jadi matriks fitur (shape: n_samples x n_features)\n",
    "X = np.column_stack((nilai_siswa, is_A, deviation))\n",
    "\n",
    "# Standarisasi fitur agar nilai fitur seimbang dan model lebih stabil\n",
    "scaler = StandardScaler()\n",
    "X_scaled = scaler.fit_transform(X)\n",
    "\n",
    "# Split data train-test\n",
    "X_train, X_test, y_train, y_test = train_test_split(\n",
    "    X_scaled, y, test_size=0.25, random_state=42\n",
    ")\n",
    "\n",
    "# Buat dan latih model Logistic Regression\n",
    "model = LogisticRegression()\n",
    "model.fit(X_train, y_train)\n",
    "\n",
    "# Prediksi data test\n",
    "y_pred = model.predict(X_test)\n",
    "\n",
    "print(\"Data training (scaled features):\\n\", X_train)\n",
    "print(\"Label training:\", y_train)\n",
    "print(\"Prediksi test:\", y_pred)\n",
    "print(\"Label asli test:\", y_test)\n",
    "print(\"Akurasi:\", accuracy_score(y_test, y_pred))\n",
    "\n",
    "# Simpan scaler dan model ke file\n",
    "joblib.dump(scaler, './model/scaler.save')\n",
    "joblib.dump(model, './model/logistic_model.save')\n",
    "\n",
    "print(\"Model dan scaler sudah disimpan.\")\n"
   ]
  },
  {
   "cell_type": "code",
   "execution_count": null,
   "id": "b4d4cb91",
   "metadata": {},
   "outputs": [
    {
     "ename": "ModuleNotFoundError",
     "evalue": "No module named 'xanfis'",
     "output_type": "error",
     "traceback": [
      "\u001b[31m---------------------------------------------------------------------------\u001b[39m",
      "\u001b[31mModuleNotFoundError\u001b[39m                       Traceback (most recent call last)",
      "\u001b[36mCell\u001b[39m\u001b[36m \u001b[39m\u001b[32mIn[1]\u001b[39m\u001b[32m, line 1\u001b[39m\n\u001b[32m----> \u001b[39m\u001b[32m1\u001b[39m \u001b[38;5;28;01mfrom\u001b[39;00m\u001b[38;5;250m \u001b[39m\u001b[34;01mxanfis\u001b[39;00m\u001b[38;5;250m \u001b[39m\u001b[38;5;28;01mimport\u001b[39;00m Data, GdAnfisClassifier\n\u001b[32m      2\u001b[39m \u001b[38;5;28;01mfrom\u001b[39;00m\u001b[38;5;250m \u001b[39m\u001b[34;01msklearn\u001b[39;00m\u001b[34;01m.\u001b[39;00m\u001b[34;01mdatasets\u001b[39;00m\u001b[38;5;250m \u001b[39m\u001b[38;5;28;01mimport\u001b[39;00m load_breast_cancer\n\u001b[32m      4\u001b[39m X, y = load_breast_cancer(return_X_y=\u001b[38;5;28;01mTrue\u001b[39;00m)\n",
      "\u001b[31mModuleNotFoundError\u001b[39m: No module named 'xanfis'"
     ]
    }
   ],
   "source": [
    "from xanfispip  import Data, GdAnfisClassifier\n",
    "from sklearn.datasets import load_breast_cancer\n",
    "\n",
    "X, y = load_breast_cancer(return_X_y=True)\n",
    "data = Data(X, y)\n",
    "data.split_train_test(test_size=0.2, random_state=2, inplace=True)\n",
    "\n",
    "model = GdAnfisClassifier(\n",
    "    num_rules=20, mf_class=\"Trapezoidal\", epochs=100, batch_size=16,\n",
    "    optim=\"Adam\", optim_params={\"lr\": 0.01}, early_stopping=True, n_patience=10,\n",
    "    verbose=True\n",
    ")\n",
    "model.fit(X=data.X_train, y=data.y_train)\n",
    "y_pred = model.predict(data.X_test)\n",
    "print(model.evaluate(y_true=data.y_test, y_pred=y_pred, list_metrics=[\"F1S\", \"PS\"]))"
   ]
  }
 ],
 "metadata": {
  "kernelspec": {
   "display_name": "Python 3",
   "language": "python",
   "name": "python3"
  },
  "language_info": {
   "codemirror_mode": {
    "name": "ipython",
    "version": 3
   },
   "file_extension": ".py",
   "mimetype": "text/x-python",
   "name": "python",
   "nbconvert_exporter": "python",
   "pygments_lexer": "ipython3",
   "version": "3.13.5"
  }
 },
 "nbformat": 4,
 "nbformat_minor": 5
}
